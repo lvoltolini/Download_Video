{
 "cells": [
  {
   "cell_type": "code",
   "execution_count": 9,
   "metadata": {},
   "outputs": [],
   "source": [
    "from PIL import Image\n",
    "\n",
    "# Carregar a imagem\n",
    "image = Image.open(\"Vídeos.png\")\n",
    "\n",
    "# Converter a imagem para o modo RGBA (possibilita a transparência)\n",
    "image = image.convert(\"RGBA\")\n",
    "\n",
    "# Obter os pixels da imagem\n",
    "pixels = image.load()\n",
    "\n",
    "# Percorrer os pixels e tornar transparentes os pixels vermelhos\n",
    "for i in range(image.width):\n",
    "    for j in range(image.height):\n",
    "        # Obter o valor dos canais RGB do pixel\n",
    "        r, g, b, a = pixels[i, j]\n",
    "\n",
    "        # Verificar se o pixel é vermelho (ou uma tonalidade próxima)\n",
    "        if r > 200 and g < 100 and b < 100:\n",
    "            # Definir a transparência para 0 (totalmente transparente)\n",
    "            pixels[i, j] = (r, g, b, 0)\n",
    "\n",
    "# Salvar a imagem modificada\n",
    "image.save(\"Capa_videos.png\")\n"
   ]
  },
  {
   "cell_type": "code",
   "execution_count": 12,
   "metadata": {},
   "outputs": [],
   "source": [
    "import cv2\n",
    "\n",
    "# Caminho para o arquivo de vídeo\n",
    "video_path = \"Videos//segment_Video_estoicismo.mp4\"\n",
    "\n",
    "# Caminho para a imagem com a região retangular transparente\n",
    "image_path = \"Capa_videos.png\"\n",
    "\n",
    "# Carregar o vídeo\n",
    "video = cv2.VideoCapture(video_path)\n",
    "\n",
    "# Ler a primeira frame do vídeo\n",
    "ret, frame = video.read()\n",
    "\n",
    "# Carregar a imagem com a região retangular transparente\n",
    "image = cv2.imread(image_path, cv2.IMREAD_UNCHANGED)\n",
    "\n",
    "# Obter as dimensões da imagem\n",
    "image_height, image_width, _ = image.shape\n",
    "\n",
    "# Obter as dimensões da região retangular transparente\n",
    "region_height = 610  # Altura da região retangular\n",
    "region_width = 1080   # Largura da região retangular\n",
    "\n",
    "# Ajustar a proporção da imagem do vídeo para caber na região retangular\n",
    "resized_frame = cv2.resize(frame, (region_width, region_height))\n",
    "\n",
    "# Adicionar um canal alfa à frame redimensionada\n",
    "resized_frame_with_alpha = cv2.cvtColor(resized_frame, cv2.COLOR_BGR2BGRA)\n",
    "\n",
    "# Obter as coordenadas para posicionar a imagem na região retangular\n",
    "x = int((image_width - region_width) / 2)\n",
    "y = int((image_height - region_height) / 2)\n",
    "\n",
    "# Copiar apenas os pixels não transparentes da frame redimensionada para a região retangular da imagem\n",
    "image[y:y+region_height, x:x+region_width] = resized_frame_with_alpha\n",
    "\n",
    "# Exibir a imagem resultante\n",
    "cv2.imshow(\"Imagem Resultante\", image)\n",
    "cv2.waitKey(0)\n",
    "cv2.destroyAllWindows()\n"
   ]
  },
  {
   "cell_type": "code",
   "execution_count": 9,
   "metadata": {},
   "outputs": [
    {
     "name": "stdout",
     "output_type": "stream",
     "text": [
      "[4 0 2 3 5 1]\n"
     ]
    }
   ],
   "source": [
    "import random \n",
    "import numpy as np \n",
    "\n",
    "a = np.arange(6)\n",
    "np.random.shuffle(a)\n",
    "print(a)"
   ]
  }
 ],
 "metadata": {
  "kernelspec": {
   "display_name": "Python 3",
   "language": "python",
   "name": "python3"
  },
  "language_info": {
   "codemirror_mode": {
    "name": "ipython",
    "version": 3
   },
   "file_extension": ".py",
   "mimetype": "text/x-python",
   "name": "python",
   "nbconvert_exporter": "python",
   "pygments_lexer": "ipython3",
   "version": "3.11.3"
  },
  "orig_nbformat": 4
 },
 "nbformat": 4,
 "nbformat_minor": 2
}
